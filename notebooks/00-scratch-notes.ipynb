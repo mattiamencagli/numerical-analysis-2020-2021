{
  "nbformat": 4,
  "nbformat_minor": 0,
  "metadata": {
    "colab": {
      "name": "scratch-notes-numerical-analysis.ipynb",
      "provenance": [],
      "collapsed_sections": [],
      "include_colab_link": true
    },
    "kernelspec": {
      "name": "python3",
      "display_name": "Python 3"
    }
  },
  "cells": [
    {
      "cell_type": "markdown",
      "metadata": {
        "id": "view-in-github",
        "colab_type": "text"
      },
      "source": [
        "<a href=\"https://colab.research.google.com/github/luca-heltai/numerical-analysis-2020-2021/blob/master/notebooks/00-scratch-notes.ipynb\" target=\"_parent\"><img src=\"https://colab.research.google.com/assets/colab-badge.svg\" alt=\"Open In Colab\"/></a>"
      ]
    },
    {
      "cell_type": "code",
      "metadata": {
        "id": "nBRV2RxG9xeu"
      },
      "source": [
        "%pylab inline"
      ],
      "execution_count": null,
      "outputs": []
    },
    {
      "cell_type": "code",
      "metadata": {
        "id": "Cu6G9Myw-wS_"
      },
      "source": [
        "def FD(f, x, h):\n",
        "  return (f(x+h)-f(x))/h\n",
        "\n",
        "def CFD(f, x, h):\n",
        "  return (f(x+h)-f(x-h))/(2*h)\n",
        "\n",
        "def myfun(x):\n",
        "  return sin(x)\n",
        "\n",
        "def exact(x):\n",
        "  return cos(x)"
      ],
      "execution_count": null,
      "outputs": []
    },
    {
      "cell_type": "code",
      "metadata": {
        "id": "WE07t1j_-9RN"
      },
      "source": [
        "x0 = 1\n",
        "\n",
        "H = [2**(-i) for i in range(1,75)]\n",
        "error  = [abs(exact(x0) -  FD(myfun, x0, h)) for h in H]\n",
        "error2 = [abs(exact(x0) - CFD(myfun, x0, h)) for h in H]"
      ],
      "execution_count": null,
      "outputs": []
    },
    {
      "cell_type": "code",
      "metadata": {
        "id": "gFGhg-e2_fYZ"
      },
      "source": [
        "_ = loglog(H, error, 'ro-')\n",
        "_ = loglog(H, error2, 'bo-')"
      ],
      "execution_count": null,
      "outputs": []
    },
    {
      "cell_type": "code",
      "metadata": {
        "id": "LFeCDgsFW-5v"
      },
      "source": [
        "x = linspace(.995, 1,1029)\n",
        "\n",
        "y = (x-1)**6\n",
        "\n",
        "_ = plot(x,y)"
      ],
      "execution_count": null,
      "outputs": []
    },
    {
      "cell_type": "code",
      "metadata": {
        "id": "B6HCWQ6AdB82"
      },
      "source": [
        "import sympy as sp\n",
        "X = sp.var('x')\n",
        "Y = (1-x)**6\n",
        "sp.expand(Y)"
      ],
      "execution_count": null,
      "outputs": []
    },
    {
      "cell_type": "code",
      "metadata": {
        "id": "CE_ixVs2eC2h"
      },
      "source": [
        "# Copy from output above.\n",
        "y = x**6 - 6*x**5 + 15*x**4 - 20*x**3 + 15*x**2 - 6*x + 1"
      ],
      "execution_count": null,
      "outputs": []
    },
    {
      "cell_type": "code",
      "metadata": {
        "id": "pPUPZZYveH2f"
      },
      "source": [
        "x = linspace(.995, 1,1029)\n",
        "y = x**6 - 6*x**5 + 15*x**4 - 20*x**3 + 15*x**2 - 6*x + 1\n",
        "\n",
        "_ = plot(x,y)"
      ],
      "execution_count": null,
      "outputs": []
    },
    {
      "cell_type": "code",
      "metadata": {
        "id": "uBIaGmK5eIg8"
      },
      "source": [
        "n = 15\n",
        "m = 1025\n",
        "\n",
        "# n equispaced points between 0 and 1\n",
        "x = linspace(0,1,n)\n",
        "\n",
        "# m equispaced poitns between 0 and 1\n",
        "x_plot = linspace(0,1,m)\n",
        "\n",
        "basis_on_xplot = array([x_plot**i for i in range(n)]).T\n",
        "_ = plot(x_plot, basis_on_xplot)"
      ],
      "execution_count": null,
      "outputs": []
    },
    {
      "cell_type": "code",
      "metadata": {
        "id": "Q4KKOfozP_qS"
      },
      "source": [
        "def u(x):\n",
        "  \"\"\"Runge function\"\"\"\n",
        "  return 1.0/(1+50*(x-.5)**2)"
      ],
      "execution_count": null,
      "outputs": []
    },
    {
      "cell_type": "code",
      "metadata": {
        "id": "doOWrL6GQAaL"
      },
      "source": [
        "# x are interpolation points\n",
        "# x_plot are plotting points\n",
        "\n",
        "# Solve linear system with Vandermond Matrix V_ij = v_j(x_i), and right hand side u_i = u(x_i)\n",
        "\n",
        "uvec = u(x)\n",
        "van = array([x**i for i in range(n)]).T\n",
        "\n",
        "from scipy import linalg"
      ],
      "execution_count": null,
      "outputs": []
    },
    {
      "cell_type": "code",
      "metadata": {
        "id": "muqRfJa7k7ZM"
      },
      "source": [
        "p_vec = linalg.solve(van, uvec)"
      ],
      "execution_count": null,
      "outputs": []
    },
    {
      "cell_type": "code",
      "metadata": {
        "id": "vRbgS-9LlHZt"
      },
      "source": [
        "_ = plot(x_plot, u(x_plot))\n",
        "_ = plot(x_plot, basis_on_xplot.dot(p_vec))\n",
        "_ = plot(x, uvec, 'or')"
      ],
      "execution_count": null,
      "outputs": []
    },
    {
      "cell_type": "code",
      "metadata": {
        "id": "TigEWCFalkZw"
      },
      "source": [
        "# Study the condition number of Vandermond\n",
        "\n",
        "for n in range(1, 25):\n",
        "  x = linspace(0,1, n)\n",
        "  van = array([x**i for i in range(n)]).T\n",
        "  print(cond(van))"
      ],
      "execution_count": null,
      "outputs": []
    },
    {
      "cell_type": "code",
      "metadata": {
        "id": "jjUD-WYPoG81"
      },
      "source": [
        "# Define the Lagrange basis functions\n",
        "n = 5\n",
        "x = linspace(0,1, n)\n",
        "\n",
        "\n",
        "van = ones((m, n))\n",
        "\n",
        "for i in range(n):\n",
        "  for j in range(n):\n",
        "    if j != i:\n",
        "      van[:,i] *= (x_plot - x[j])/(x[i]-x[j])"
      ],
      "execution_count": null,
      "outputs": []
    },
    {
      "cell_type": "code",
      "metadata": {
        "id": "PCc29wOSp8M_"
      },
      "source": [
        "_ = plot(x_plot, van)\n",
        "_ = plot(x, 0*x, 'or')"
      ],
      "execution_count": null,
      "outputs": []
    },
    {
      "cell_type": "code",
      "metadata": {
        "id": "Qk0tvRpBqD0L"
      },
      "source": [
        ""
      ],
      "execution_count": null,
      "outputs": []
    }
  ]
}