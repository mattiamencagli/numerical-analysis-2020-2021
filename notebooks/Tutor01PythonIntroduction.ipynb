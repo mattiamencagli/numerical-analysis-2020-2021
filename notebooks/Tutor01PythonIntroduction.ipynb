{
  "nbformat": 4,
  "nbformat_minor": 0,
  "metadata": {
    "colab": {
      "name": "Tutor01PythonIntroduction.ipynb",
      "provenance": [],
      "authorship_tag": "ABX9TyPdRlYmCuq3MC2tN+9a5psk"
    },
    "kernelspec": {
      "name": "python3",
      "display_name": "Python 3"
    }
  },
  "cells": [
    {
      "cell_type": "code",
      "metadata": {
        "id": "Zueujf9sFr_l",
        "outputId": "f5fd976f-43e7-4097-d36e-09f22596eb0f",
        "colab": {
          "base_uri": "https://localhost:8080/",
          "height": 35
        }
      },
      "source": [
        "1 + 1"
      ],
      "execution_count": null,
      "outputs": [
        {
          "output_type": "execute_result",
          "data": {
            "text/plain": [
              "2"
            ]
          },
          "metadata": {
            "tags": []
          },
          "execution_count": 1
        }
      ]
    },
    {
      "cell_type": "code",
      "metadata": {
        "id": "9grYWCa_JO_M",
        "outputId": "73657eed-08f8-4fac-9435-75d0acb7b9f9",
        "colab": {
          "base_uri": "https://localhost:8080/",
          "height": 35
        }
      },
      "source": [
        "2 + 3 ** 2"
      ],
      "execution_count": null,
      "outputs": [
        {
          "output_type": "execute_result",
          "data": {
            "text/plain": [
              "11"
            ]
          },
          "metadata": {
            "tags": []
          },
          "execution_count": 2
        }
      ]
    },
    {
      "cell_type": "code",
      "metadata": {
        "id": "vQnMSUhaJWCG",
        "outputId": "21635f6b-ac29-49af-f4b9-bfa7aa37f586",
        "colab": {
          "base_uri": "https://localhost:8080/",
          "height": 35
        }
      },
      "source": [
        "6 / 2"
      ],
      "execution_count": null,
      "outputs": [
        {
          "output_type": "execute_result",
          "data": {
            "text/plain": [
              "3.0"
            ]
          },
          "metadata": {
            "tags": []
          },
          "execution_count": 3
        }
      ]
    },
    {
      "cell_type": "code",
      "metadata": {
        "id": "6xetdewlJfmQ",
        "outputId": "24eece1c-6bc8-42d9-c948-8665103d2719",
        "colab": {
          "base_uri": "https://localhost:8080/",
          "height": 35
        }
      },
      "source": [
        "7 / 2"
      ],
      "execution_count": null,
      "outputs": [
        {
          "output_type": "execute_result",
          "data": {
            "text/plain": [
              "3.5"
            ]
          },
          "metadata": {
            "tags": []
          },
          "execution_count": 4
        }
      ]
    },
    {
      "cell_type": "code",
      "metadata": {
        "id": "zfKLb5ljJhET",
        "outputId": "b8ab9c87-e8ea-4ef9-8b51-708d7adf3335",
        "colab": {
          "base_uri": "https://localhost:8080/",
          "height": 35
        }
      },
      "source": [
        "7 // 2"
      ],
      "execution_count": null,
      "outputs": [
        {
          "output_type": "execute_result",
          "data": {
            "text/plain": [
              "3"
            ]
          },
          "metadata": {
            "tags": []
          },
          "execution_count": 5
        }
      ]
    },
    {
      "cell_type": "code",
      "metadata": {
        "id": "myXMV3dfJnUv"
      },
      "source": [
        "a = 3"
      ],
      "execution_count": null,
      "outputs": []
    },
    {
      "cell_type": "code",
      "metadata": {
        "id": "PaBs4pFaJr2n",
        "outputId": "746e4530-00ee-4771-ebf8-91bc7761e902",
        "colab": {
          "base_uri": "https://localhost:8080/",
          "height": 35
        }
      },
      "source": [
        "a + 7"
      ],
      "execution_count": null,
      "outputs": [
        {
          "output_type": "execute_result",
          "data": {
            "text/plain": [
              "10"
            ]
          },
          "metadata": {
            "tags": []
          },
          "execution_count": 7
        }
      ]
    },
    {
      "cell_type": "code",
      "metadata": {
        "id": "ZpjIeYR7JwKq"
      },
      "source": [
        "b = 10"
      ],
      "execution_count": null,
      "outputs": []
    },
    {
      "cell_type": "code",
      "metadata": {
        "id": "fmX5yNgpJyrb",
        "outputId": "afd5098b-6b0e-43d5-eb3b-88401e42d012",
        "colab": {
          "base_uri": "https://localhost:8080/",
          "height": 35
        }
      },
      "source": [
        "b"
      ],
      "execution_count": null,
      "outputs": [
        {
          "output_type": "execute_result",
          "data": {
            "text/plain": [
              "10"
            ]
          },
          "metadata": {
            "tags": []
          },
          "execution_count": 9
        }
      ]
    },
    {
      "cell_type": "code",
      "metadata": {
        "id": "-FnohfQIJzdE"
      },
      "source": [
        "c = 3.141592654"
      ],
      "execution_count": null,
      "outputs": []
    },
    {
      "cell_type": "code",
      "metadata": {
        "id": "3zdIKZiOJ1my"
      },
      "source": [
        "d = \"my_string\""
      ],
      "execution_count": null,
      "outputs": []
    },
    {
      "cell_type": "code",
      "metadata": {
        "id": "292xyG1TJ4IF",
        "outputId": "e7a646e5-316d-4042-a562-0b83e7111f06",
        "colab": {
          "base_uri": "https://localhost:8080/",
          "height": 35
        }
      },
      "source": [
        "type(a)"
      ],
      "execution_count": null,
      "outputs": [
        {
          "output_type": "execute_result",
          "data": {
            "text/plain": [
              "int"
            ]
          },
          "metadata": {
            "tags": []
          },
          "execution_count": 12
        }
      ]
    },
    {
      "cell_type": "code",
      "metadata": {
        "id": "P7utzU3xJ4Wz",
        "outputId": "0efe9c6e-2115-46e4-824c-c99fd71af351",
        "colab": {
          "base_uri": "https://localhost:8080/",
          "height": 35
        }
      },
      "source": [
        "type(c)"
      ],
      "execution_count": null,
      "outputs": [
        {
          "output_type": "execute_result",
          "data": {
            "text/plain": [
              "float"
            ]
          },
          "metadata": {
            "tags": []
          },
          "execution_count": 13
        }
      ]
    },
    {
      "cell_type": "code",
      "metadata": {
        "id": "sKABU8QeJ4v-",
        "outputId": "5f3684fd-d5fe-4dfe-85ff-b195446f0a02",
        "colab": {
          "base_uri": "https://localhost:8080/",
          "height": 35
        }
      },
      "source": [
        "type(d)"
      ],
      "execution_count": null,
      "outputs": [
        {
          "output_type": "execute_result",
          "data": {
            "text/plain": [
              "str"
            ]
          },
          "metadata": {
            "tags": []
          },
          "execution_count": 14
        }
      ]
    },
    {
      "cell_type": "code",
      "metadata": {
        "id": "EbuV-ILGJ4_f",
        "outputId": "c71bae62-fd4b-42ac-c6a7-897d6a857586",
        "colab": {
          "base_uri": "https://localhost:8080/",
          "height": 171
        }
      },
      "source": [
        "A"
      ],
      "execution_count": null,
      "outputs": [
        {
          "output_type": "error",
          "ename": "NameError",
          "evalue": "ignored",
          "traceback": [
            "\u001b[0;31m---------------------------------------------------------------------------\u001b[0m",
            "\u001b[0;31mNameError\u001b[0m                                 Traceback (most recent call last)",
            "\u001b[0;32m<ipython-input-15-7d157d7c000a>\u001b[0m in \u001b[0;36m<module>\u001b[0;34m()\u001b[0m\n\u001b[0;32m----> 1\u001b[0;31m \u001b[0mA\u001b[0m\u001b[0;34m\u001b[0m\u001b[0;34m\u001b[0m\u001b[0m\n\u001b[0m",
            "\u001b[0;31mNameError\u001b[0m: name 'A' is not defined"
          ]
        }
      ]
    },
    {
      "cell_type": "code",
      "metadata": {
        "id": "sWLsSwjmJ5Kc"
      },
      "source": [
        "a = 2**32 + 1"
      ],
      "execution_count": null,
      "outputs": []
    },
    {
      "cell_type": "code",
      "metadata": {
        "id": "Lut_nLZqJ5TQ",
        "outputId": "cae1c038-1b38-4552-c641-7eb3cd770975",
        "colab": {
          "base_uri": "https://localhost:8080/",
          "height": 35
        }
      },
      "source": [
        "a"
      ],
      "execution_count": null,
      "outputs": [
        {
          "output_type": "execute_result",
          "data": {
            "text/plain": [
              "4294967297"
            ]
          },
          "metadata": {
            "tags": []
          },
          "execution_count": 19
        }
      ]
    },
    {
      "cell_type": "code",
      "metadata": {
        "id": "r93KzFEXJ5bt"
      },
      "source": [
        "b = 2**100 + 1"
      ],
      "execution_count": null,
      "outputs": []
    },
    {
      "cell_type": "code",
      "metadata": {
        "id": "cGS-sxxZJ5jQ",
        "outputId": "994093c6-04c7-431d-e76d-cd5936c4511a",
        "colab": {
          "base_uri": "https://localhost:8080/",
          "height": 35
        }
      },
      "source": [
        "b"
      ],
      "execution_count": null,
      "outputs": [
        {
          "output_type": "execute_result",
          "data": {
            "text/plain": [
              "1267650600228229401496703205377"
            ]
          },
          "metadata": {
            "tags": []
          },
          "execution_count": 21
        }
      ]
    },
    {
      "cell_type": "code",
      "metadata": {
        "id": "lpS0Wh8_J5rs",
        "outputId": "f932acf9-e5bb-422d-db74-9ddfba0fa7dc",
        "colab": {
          "base_uri": "https://localhost:8080/",
          "height": 35
        }
      },
      "source": [
        "b * b"
      ],
      "execution_count": null,
      "outputs": [
        {
          "output_type": "execute_result",
          "data": {
            "text/plain": [
              "1606938044258990275541962092343697903722659452585786241712129"
            ]
          },
          "metadata": {
            "tags": []
          },
          "execution_count": 22
        }
      ]
    },
    {
      "cell_type": "code",
      "metadata": {
        "id": "0x1nJ0etJ5z1"
      },
      "source": [
        "f = True"
      ],
      "execution_count": null,
      "outputs": []
    },
    {
      "cell_type": "code",
      "metadata": {
        "id": "IH0VESAOJ5-G",
        "outputId": "bab9893d-5eed-42d0-afdf-9db90bc7955c",
        "colab": {
          "base_uri": "https://localhost:8080/",
          "height": 35
        }
      },
      "source": [
        "f"
      ],
      "execution_count": null,
      "outputs": [
        {
          "output_type": "execute_result",
          "data": {
            "text/plain": [
              "True"
            ]
          },
          "metadata": {
            "tags": []
          },
          "execution_count": 24
        }
      ]
    },
    {
      "cell_type": "code",
      "metadata": {
        "id": "a7VNuaPZJ4Uu"
      },
      "source": [
        "None"
      ],
      "execution_count": null,
      "outputs": []
    },
    {
      "cell_type": "code",
      "metadata": {
        "id": "00gi8ltdJ4Ss"
      },
      "source": [
        "a = 4"
      ],
      "execution_count": null,
      "outputs": []
    },
    {
      "cell_type": "code",
      "metadata": {
        "id": "GZiW7yWgJ4Qf"
      },
      "source": [
        "a = 3.14"
      ],
      "execution_count": null,
      "outputs": []
    },
    {
      "cell_type": "code",
      "metadata": {
        "id": "hSRUdwgYJ4Ou"
      },
      "source": [
        "a = 3\n",
        "if a < 10:\n",
        "  a = 11\n",
        "  b = 7\n",
        "c = 4"
      ],
      "execution_count": null,
      "outputs": []
    },
    {
      "cell_type": "code",
      "metadata": {
        "id": "CCn2AO0yJ4Nl",
        "outputId": "4572d0ae-4904-4d5c-de25-d893d2574fcc",
        "colab": {
          "base_uri": "https://localhost:8080/",
          "height": 35
        }
      },
      "source": [
        "a"
      ],
      "execution_count": null,
      "outputs": [
        {
          "output_type": "execute_result",
          "data": {
            "text/plain": [
              "11"
            ]
          },
          "metadata": {
            "tags": []
          },
          "execution_count": 29
        }
      ]
    },
    {
      "cell_type": "code",
      "metadata": {
        "id": "ngNcLs60J4MC",
        "outputId": "e185b2f0-aa2c-4302-9ccf-7133aacc2629",
        "colab": {
          "base_uri": "https://localhost:8080/",
          "height": 35
        }
      },
      "source": [
        "2 + 3\n",
        "3 - 1\n",
        "7 + 9"
      ],
      "execution_count": null,
      "outputs": [
        {
          "output_type": "execute_result",
          "data": {
            "text/plain": [
              "16"
            ]
          },
          "metadata": {
            "tags": []
          },
          "execution_count": 30
        }
      ]
    },
    {
      "cell_type": "code",
      "metadata": {
        "id": "3a6vH8bjJ4GW",
        "outputId": "d0e9ecb7-12b0-4ab5-97fd-b778ccdf7cd4",
        "colab": {
          "base_uri": "https://localhost:8080/",
          "height": 70
        }
      },
      "source": [
        "print(2 + 3)\n",
        "print(3 - 1)\n",
        "print(7 + 9)"
      ],
      "execution_count": null,
      "outputs": [
        {
          "output_type": "stream",
          "text": [
            "5\n",
            "2\n",
            "16\n"
          ],
          "name": "stdout"
        }
      ]
    },
    {
      "cell_type": "code",
      "metadata": {
        "id": "qjmm61bkMvcL",
        "outputId": "0a1c69a6-bf84-42a3-f672-9f4d80b6a8c3",
        "colab": {
          "base_uri": "https://localhost:8080/",
          "height": 35
        }
      },
      "source": [
        "d = 3\n",
        "if d < 5:\n",
        "  print('d is small')\n",
        "else:\n",
        "  print('d is big')"
      ],
      "execution_count": null,
      "outputs": [
        {
          "output_type": "stream",
          "text": [
            "d is small\n"
          ],
          "name": "stdout"
        }
      ]
    },
    {
      "cell_type": "code",
      "metadata": {
        "id": "6NMna-pCMxbI",
        "outputId": "9343859c-f12c-49c6-b232-ea97d626b764",
        "colab": {
          "base_uri": "https://localhost:8080/",
          "height": 35
        }
      },
      "source": [
        "d = 8\n",
        "if d < 5:\n",
        "  print('d is small')\n",
        "else:\n",
        "  print('d is big')"
      ],
      "execution_count": null,
      "outputs": [
        {
          "output_type": "stream",
          "text": [
            "d is big\n"
          ],
          "name": "stdout"
        }
      ]
    },
    {
      "cell_type": "code",
      "metadata": {
        "id": "iaM6j2ZXMxmc",
        "outputId": "e9c162cf-fb4f-4175-c3a3-72758a91828f",
        "colab": {
          "base_uri": "https://localhost:8080/",
          "height": 159
        }
      },
      "source": [
        "a_list_of_numbers = range(2, 10)\n",
        "for i in a_list_of_numbers:\n",
        "  print(i)"
      ],
      "execution_count": null,
      "outputs": [
        {
          "output_type": "stream",
          "text": [
            "2\n",
            "3\n",
            "4\n",
            "5\n",
            "6\n",
            "7\n",
            "8\n",
            "9\n"
          ],
          "name": "stdout"
        }
      ]
    },
    {
      "cell_type": "code",
      "metadata": {
        "id": "HJJbyIluMxt9",
        "outputId": "ca283844-06cc-46b9-fe1f-f6a4335082b9",
        "colab": {
          "base_uri": "https://localhost:8080/",
          "height": 35
        }
      },
      "source": [
        "type(a_list_of_numbers)"
      ],
      "execution_count": null,
      "outputs": [
        {
          "output_type": "execute_result",
          "data": {
            "text/plain": [
              "range"
            ]
          },
          "metadata": {
            "tags": []
          },
          "execution_count": 35
        }
      ]
    },
    {
      "cell_type": "code",
      "metadata": {
        "id": "3S11kga2Mx3R",
        "outputId": "1179e7c1-7550-4900-c4c6-1f655efd8dca",
        "colab": {
          "base_uri": "https://localhost:8080/",
          "height": 159
        }
      },
      "source": [
        "s = \"a string\"\n",
        "for i in s:\n",
        "  print(\"i is \" + i)"
      ],
      "execution_count": null,
      "outputs": [
        {
          "output_type": "stream",
          "text": [
            "i is a\n",
            "i is  \n",
            "i is s\n",
            "i is t\n",
            "i is r\n",
            "i is i\n",
            "i is n\n",
            "i is g\n"
          ],
          "name": "stdout"
        }
      ]
    },
    {
      "cell_type": "code",
      "metadata": {
        "id": "u67asqyOMyAO",
        "outputId": "0fe44bfe-5023-4c8f-d6f0-5aa6fe8cb9d1",
        "colab": {
          "base_uri": "https://localhost:8080/",
          "height": 195
        }
      },
      "source": [
        "for i in range(1, 11):\n",
        "  print(i)"
      ],
      "execution_count": null,
      "outputs": [
        {
          "output_type": "stream",
          "text": [
            "1\n",
            "2\n",
            "3\n",
            "4\n",
            "5\n",
            "6\n",
            "7\n",
            "8\n",
            "9\n",
            "10\n"
          ],
          "name": "stdout"
        }
      ]
    },
    {
      "cell_type": "code",
      "metadata": {
        "id": "mcVLVsQ4MyIi",
        "outputId": "7d8c8b44-d574-43f0-c354-f4d32eb17efe",
        "colab": {
          "base_uri": "https://localhost:8080/",
          "height": 106
        }
      },
      "source": [
        "for i in range(5):\n",
        "  print(i**2)"
      ],
      "execution_count": null,
      "outputs": [
        {
          "output_type": "stream",
          "text": [
            "0\n",
            "1\n",
            "4\n",
            "9\n",
            "16\n"
          ],
          "name": "stdout"
        }
      ]
    },
    {
      "cell_type": "code",
      "metadata": {
        "id": "uS_oedo0Myc8",
        "outputId": "225930f2-9c6c-4409-f871-40ee8d1d3ece",
        "colab": {
          "base_uri": "https://localhost:8080/",
          "height": 88
        }
      },
      "source": [
        "for i in range(0, 10, 3):\n",
        "  print(i)"
      ],
      "execution_count": null,
      "outputs": [
        {
          "output_type": "stream",
          "text": [
            "0\n",
            "3\n",
            "6\n",
            "9\n"
          ],
          "name": "stdout"
        }
      ]
    },
    {
      "cell_type": "code",
      "metadata": {
        "id": "Lg1oLCeAPLGe",
        "outputId": "71c79cbe-329a-4ca9-9a33-8b3f68c71903",
        "colab": {
          "base_uri": "https://localhost:8080/",
          "height": 372
        }
      },
      "source": [
        "for i in range(1, 21):\n",
        "  if i % 3 == 0:\n",
        "    print('goofy!')\n",
        "  else:\n",
        "    if i == 3 or i == 13:\n",
        "      print('goofy!')\n",
        "    else:\n",
        "      print(i)"
      ],
      "execution_count": null,
      "outputs": [
        {
          "output_type": "stream",
          "text": [
            "1\n",
            "2\n",
            "goofy!\n",
            "4\n",
            "5\n",
            "goofy!\n",
            "7\n",
            "8\n",
            "goofy!\n",
            "10\n",
            "11\n",
            "goofy!\n",
            "goofy!\n",
            "14\n",
            "goofy!\n",
            "16\n",
            "17\n",
            "goofy!\n",
            "19\n",
            "20\n"
          ],
          "name": "stdout"
        }
      ]
    },
    {
      "cell_type": "code",
      "metadata": {
        "id": "N20-gl5CQXL3",
        "outputId": "ec8a3319-0c30-4345-bdee-2e7d2e0f9051",
        "colab": {
          "base_uri": "https://localhost:8080/",
          "height": 372
        }
      },
      "source": [
        "for i in range(1, 21):\n",
        "  if i % 3 == 0:\n",
        "    print('goofy!')\n",
        "  elif i == 3 or i == 13:\n",
        "      print('goofy!')\n",
        "  else:\n",
        "    print(i)"
      ],
      "execution_count": null,
      "outputs": [
        {
          "output_type": "stream",
          "text": [
            "1\n",
            "2\n",
            "goofy!\n",
            "4\n",
            "5\n",
            "goofy!\n",
            "7\n",
            "8\n",
            "goofy!\n",
            "10\n",
            "11\n",
            "goofy!\n",
            "goofy!\n",
            "14\n",
            "goofy!\n",
            "16\n",
            "17\n",
            "goofy!\n",
            "19\n",
            "20\n"
          ],
          "name": "stdout"
        }
      ]
    },
    {
      "cell_type": "code",
      "metadata": {
        "id": "ouHVkEyEQn_2",
        "outputId": "317b8310-34c4-46fb-9e42-c453642729f2",
        "colab": {
          "base_uri": "https://localhost:8080/",
          "height": 36
        }
      },
      "source": [
        "\"I'm a string\""
      ],
      "execution_count": null,
      "outputs": [
        {
          "output_type": "execute_result",
          "data": {
            "application/vnd.google.colaboratory.intrinsic+json": {
              "type": "string"
            },
            "text/plain": [
              "\"I'm a string\""
            ]
          },
          "metadata": {
            "tags": []
          },
          "execution_count": 43
        }
      ]
    },
    {
      "cell_type": "code",
      "metadata": {
        "id": "eXiJZdIbQs2U",
        "outputId": "3bbe6ba5-2fd5-4b09-8fa6-95479b6f3012",
        "colab": {
          "base_uri": "https://localhost:8080/",
          "height": 36
        }
      },
      "source": [
        "'this is a \"string\"'"
      ],
      "execution_count": null,
      "outputs": [
        {
          "output_type": "execute_result",
          "data": {
            "application/vnd.google.colaboratory.intrinsic+json": {
              "type": "string"
            },
            "text/plain": [
              "'this is a \"string\"'"
            ]
          },
          "metadata": {
            "tags": []
          },
          "execution_count": 44
        }
      ]
    },
    {
      "cell_type": "code",
      "metadata": {
        "id": "VmMokegoQu9L",
        "outputId": "6c38b580-d45a-47f2-b65d-1d6c2509f25a",
        "colab": {
          "base_uri": "https://localhost:8080/",
          "height": 36
        }
      },
      "source": [
        "'I\\'m a string'"
      ],
      "execution_count": null,
      "outputs": [
        {
          "output_type": "execute_result",
          "data": {
            "application/vnd.google.colaboratory.intrinsic+json": {
              "type": "string"
            },
            "text/plain": [
              "\"I'm a string\""
            ]
          },
          "metadata": {
            "tags": []
          },
          "execution_count": 46
        }
      ]
    },
    {
      "cell_type": "code",
      "metadata": {
        "id": "sZzaKFNrQ1ib",
        "outputId": "8b8c0cec-e805-4bee-ed38-1f962b2f86ac",
        "colab": {
          "base_uri": "https://localhost:8080/",
          "height": 35
        }
      },
      "source": [
        "n = 31214214123\n",
        "'3' in str(n)"
      ],
      "execution_count": null,
      "outputs": [
        {
          "output_type": "execute_result",
          "data": {
            "text/plain": [
              "True"
            ]
          },
          "metadata": {
            "tags": []
          },
          "execution_count": 47
        }
      ]
    },
    {
      "cell_type": "code",
      "metadata": {
        "id": "7Sj-RRAKRDOG",
        "outputId": "38b5b25c-8ecc-4a3b-9e11-29b1e9a202cd",
        "colab": {
          "base_uri": "https://localhost:8080/",
          "height": 35
        }
      },
      "source": [
        "l = [1, 2, 3, 'banana', None, True, 3.141592]\n",
        "l"
      ],
      "execution_count": null,
      "outputs": [
        {
          "output_type": "execute_result",
          "data": {
            "text/plain": [
              "[1, 2, 3, 'banana', None, True, 3.141592]"
            ]
          },
          "metadata": {
            "tags": []
          },
          "execution_count": 48
        }
      ]
    },
    {
      "cell_type": "code",
      "metadata": {
        "id": "8Bzn3BnRRTai",
        "outputId": "e46c67e6-e5d9-4790-d336-bb7fb22ea485",
        "colab": {
          "base_uri": "https://localhost:8080/",
          "height": 35
        }
      },
      "source": [
        "l[0]"
      ],
      "execution_count": null,
      "outputs": [
        {
          "output_type": "execute_result",
          "data": {
            "text/plain": [
              "1"
            ]
          },
          "metadata": {
            "tags": []
          },
          "execution_count": 49
        }
      ]
    },
    {
      "cell_type": "code",
      "metadata": {
        "id": "Cc7_MwbCRgqz",
        "outputId": "23ce33f3-273b-45d3-d192-aaf7a2d2433c",
        "colab": {
          "base_uri": "https://localhost:8080/",
          "height": 35
        }
      },
      "source": [
        "l[5]"
      ],
      "execution_count": null,
      "outputs": [
        {
          "output_type": "execute_result",
          "data": {
            "text/plain": [
              "True"
            ]
          },
          "metadata": {
            "tags": []
          },
          "execution_count": 50
        }
      ]
    },
    {
      "cell_type": "code",
      "metadata": {
        "id": "zTLeG8DwRkjz",
        "outputId": "3cd05d12-84df-47b4-f4f7-deaafd5585ff",
        "colab": {
          "base_uri": "https://localhost:8080/",
          "height": 35
        }
      },
      "source": [
        "len(l)"
      ],
      "execution_count": null,
      "outputs": [
        {
          "output_type": "execute_result",
          "data": {
            "text/plain": [
              "7"
            ]
          },
          "metadata": {
            "tags": []
          },
          "execution_count": 51
        }
      ]
    },
    {
      "cell_type": "code",
      "metadata": {
        "id": "ciAqX5GZRmjL",
        "outputId": "5ce42c7d-97d0-4c39-ca0e-00e8e6ab7cf5",
        "colab": {
          "base_uri": "https://localhost:8080/",
          "height": 35
        }
      },
      "source": [
        "l[6]"
      ],
      "execution_count": null,
      "outputs": [
        {
          "output_type": "execute_result",
          "data": {
            "text/plain": [
              "3.141592"
            ]
          },
          "metadata": {
            "tags": []
          },
          "execution_count": 52
        }
      ]
    },
    {
      "cell_type": "code",
      "metadata": {
        "id": "PTBptmCIRrtd",
        "outputId": "574ff9f0-47cd-4099-cae8-b0f8022bc953",
        "colab": {
          "base_uri": "https://localhost:8080/",
          "height": 171
        }
      },
      "source": [
        "l[7]"
      ],
      "execution_count": null,
      "outputs": [
        {
          "output_type": "error",
          "ename": "IndexError",
          "evalue": "ignored",
          "traceback": [
            "\u001b[0;31m---------------------------------------------------------------------------\u001b[0m",
            "\u001b[0;31mIndexError\u001b[0m                                Traceback (most recent call last)",
            "\u001b[0;32m<ipython-input-53-dc61b3a869da>\u001b[0m in \u001b[0;36m<module>\u001b[0;34m()\u001b[0m\n\u001b[0;32m----> 1\u001b[0;31m \u001b[0ml\u001b[0m\u001b[0;34m[\u001b[0m\u001b[0;36m7\u001b[0m\u001b[0;34m]\u001b[0m\u001b[0;34m\u001b[0m\u001b[0;34m\u001b[0m\u001b[0m\n\u001b[0m",
            "\u001b[0;31mIndexError\u001b[0m: list index out of range"
          ]
        }
      ]
    },
    {
      "cell_type": "code",
      "metadata": {
        "id": "HzsPM5gRRuZc",
        "outputId": "120ffb69-5a12-49b0-e0a0-9a6387b31d78",
        "colab": {
          "base_uri": "https://localhost:8080/",
          "height": 35
        }
      },
      "source": [
        "l[-1]"
      ],
      "execution_count": null,
      "outputs": [
        {
          "output_type": "execute_result",
          "data": {
            "text/plain": [
              "3.141592"
            ]
          },
          "metadata": {
            "tags": []
          },
          "execution_count": 54
        }
      ]
    },
    {
      "cell_type": "code",
      "metadata": {
        "id": "4W1VSqrbR2hd",
        "outputId": "9176603a-ebd5-4380-e5bb-c8a831e326ae",
        "colab": {
          "base_uri": "https://localhost:8080/",
          "height": 35
        }
      },
      "source": [
        "l[-2]"
      ],
      "execution_count": null,
      "outputs": [
        {
          "output_type": "execute_result",
          "data": {
            "text/plain": [
              "True"
            ]
          },
          "metadata": {
            "tags": []
          },
          "execution_count": 55
        }
      ]
    },
    {
      "cell_type": "code",
      "metadata": {
        "id": "zg9b-JX4R6Ci",
        "outputId": "68dfe033-07ed-480e-faee-fef390649d50",
        "colab": {
          "base_uri": "https://localhost:8080/",
          "height": 171
        }
      },
      "source": [
        "l[-10]"
      ],
      "execution_count": null,
      "outputs": [
        {
          "output_type": "error",
          "ename": "IndexError",
          "evalue": "ignored",
          "traceback": [
            "\u001b[0;31m---------------------------------------------------------------------------\u001b[0m",
            "\u001b[0;31mIndexError\u001b[0m                                Traceback (most recent call last)",
            "\u001b[0;32m<ipython-input-56-080d95ce6835>\u001b[0m in \u001b[0;36m<module>\u001b[0;34m()\u001b[0m\n\u001b[0;32m----> 1\u001b[0;31m \u001b[0ml\u001b[0m\u001b[0;34m[\u001b[0m\u001b[0;34m-\u001b[0m\u001b[0;36m10\u001b[0m\u001b[0;34m]\u001b[0m\u001b[0;34m\u001b[0m\u001b[0;34m\u001b[0m\u001b[0m\n\u001b[0m",
            "\u001b[0;31mIndexError\u001b[0m: list index out of range"
          ]
        }
      ]
    },
    {
      "cell_type": "code",
      "metadata": {
        "id": "3IzJNhwpR9B1",
        "outputId": "2ed24c0c-c2ad-4691-8c91-0003f1cd00e8",
        "colab": {
          "base_uri": "https://localhost:8080/",
          "height": 35
        }
      },
      "source": [
        "l[-7]"
      ],
      "execution_count": null,
      "outputs": [
        {
          "output_type": "execute_result",
          "data": {
            "text/plain": [
              "1"
            ]
          },
          "metadata": {
            "tags": []
          },
          "execution_count": 57
        }
      ]
    },
    {
      "cell_type": "code",
      "metadata": {
        "id": "HUF6FzdKR_db",
        "outputId": "a62d6ee5-a704-461a-e3dd-7a6af05cb032",
        "colab": {
          "base_uri": "https://localhost:8080/",
          "height": 141
        }
      },
      "source": [
        "for i in l:\n",
        "  print(i)"
      ],
      "execution_count": null,
      "outputs": [
        {
          "output_type": "stream",
          "text": [
            "1\n",
            "2\n",
            "3\n",
            "banana\n",
            "None\n",
            "True\n",
            "3.141592\n"
          ],
          "name": "stdout"
        }
      ]
    },
    {
      "cell_type": "code",
      "metadata": {
        "id": "-X7oG8AoSC-T",
        "outputId": "e2840d8e-fc5d-4f1c-f0a0-763c218dd98a",
        "colab": {
          "base_uri": "https://localhost:8080/",
          "height": 35
        }
      },
      "source": [
        "l.append(\"a new element\")\n",
        "l"
      ],
      "execution_count": null,
      "outputs": [
        {
          "output_type": "execute_result",
          "data": {
            "text/plain": [
              "[1, 2, 3, 'banana', None, True, 3.141592, 'a new element']"
            ]
          },
          "metadata": {
            "tags": []
          },
          "execution_count": 59
        }
      ]
    },
    {
      "cell_type": "code",
      "metadata": {
        "id": "e4E6VX99SInY",
        "outputId": "5844a958-1da8-4045-9e16-cc732b20a93e",
        "colab": {
          "base_uri": "https://localhost:8080/",
          "height": 35
        }
      },
      "source": [
        "l.pop(2)"
      ],
      "execution_count": null,
      "outputs": [
        {
          "output_type": "execute_result",
          "data": {
            "text/plain": [
              "3"
            ]
          },
          "metadata": {
            "tags": []
          },
          "execution_count": 60
        }
      ]
    },
    {
      "cell_type": "code",
      "metadata": {
        "id": "7Haxuf4XSLI3",
        "outputId": "3cac6df6-7bf9-4170-84b2-3e28380a7818",
        "colab": {
          "base_uri": "https://localhost:8080/",
          "height": 35
        }
      },
      "source": [
        "l"
      ],
      "execution_count": null,
      "outputs": [
        {
          "output_type": "execute_result",
          "data": {
            "text/plain": [
              "[1, 2, 'banana', None, True, 3.141592, 'a new element']"
            ]
          },
          "metadata": {
            "tags": []
          },
          "execution_count": 61
        }
      ]
    },
    {
      "cell_type": "code",
      "metadata": {
        "id": "nJZ4wHhQSLoC",
        "outputId": "02d948e2-3ea5-4f5d-bc28-0c3d6903f1f7",
        "colab": {
          "base_uri": "https://localhost:8080/",
          "height": 35
        }
      },
      "source": [
        "l[2: 5]"
      ],
      "execution_count": null,
      "outputs": [
        {
          "output_type": "execute_result",
          "data": {
            "text/plain": [
              "['banana', None, True]"
            ]
          },
          "metadata": {
            "tags": []
          },
          "execution_count": 62
        }
      ]
    },
    {
      "cell_type": "code",
      "metadata": {
        "id": "REIPt7qHSToq",
        "outputId": "4737fa84-51cd-4d5b-aa10-613998cb40af",
        "colab": {
          "base_uri": "https://localhost:8080/",
          "height": 35
        }
      },
      "source": [
        "l[0:6:2]"
      ],
      "execution_count": null,
      "outputs": [
        {
          "output_type": "execute_result",
          "data": {
            "text/plain": [
              "[1, 'banana', True]"
            ]
          },
          "metadata": {
            "tags": []
          },
          "execution_count": 63
        }
      ]
    },
    {
      "cell_type": "code",
      "metadata": {
        "id": "xBvN6SBdSYMl",
        "outputId": "de8084aa-2764-458e-b51d-eb10cf87fa98",
        "colab": {
          "base_uri": "https://localhost:8080/",
          "height": 35
        }
      },
      "source": [
        "l"
      ],
      "execution_count": null,
      "outputs": [
        {
          "output_type": "execute_result",
          "data": {
            "text/plain": [
              "[1, 2, 'banana', None, True, 3.141592, 'a new element']"
            ]
          },
          "metadata": {
            "tags": []
          },
          "execution_count": 64
        }
      ]
    },
    {
      "cell_type": "code",
      "metadata": {
        "id": "zxJTjpJ3SZIo",
        "outputId": "d508ff4e-f716-4b8a-b435-8f6aad7ac345",
        "colab": {
          "base_uri": "https://localhost:8080/",
          "height": 35
        }
      },
      "source": [
        "l[:3]"
      ],
      "execution_count": null,
      "outputs": [
        {
          "output_type": "execute_result",
          "data": {
            "text/plain": [
              "[1, 2, 'banana']"
            ]
          },
          "metadata": {
            "tags": []
          },
          "execution_count": 65
        }
      ]
    },
    {
      "cell_type": "code",
      "metadata": {
        "id": "uCcn5SALSfNt",
        "outputId": "6e43574b-d840-4296-ec83-ad2bded7f813",
        "colab": {
          "base_uri": "https://localhost:8080/",
          "height": 35
        }
      },
      "source": [
        "l[3:]"
      ],
      "execution_count": null,
      "outputs": [
        {
          "output_type": "execute_result",
          "data": {
            "text/plain": [
              "[None, True, 3.141592, 'a new element']"
            ]
          },
          "metadata": {
            "tags": []
          },
          "execution_count": 66
        }
      ]
    },
    {
      "cell_type": "code",
      "metadata": {
        "id": "fjYLBADHSiCn",
        "outputId": "dfe4b903-ca42-474a-8e38-f8718fe546a0",
        "colab": {
          "base_uri": "https://localhost:8080/",
          "height": 35
        }
      },
      "source": [
        "l[3::2]"
      ],
      "execution_count": null,
      "outputs": [
        {
          "output_type": "execute_result",
          "data": {
            "text/plain": [
              "[None, 3.141592]"
            ]
          },
          "metadata": {
            "tags": []
          },
          "execution_count": 67
        }
      ]
    },
    {
      "cell_type": "code",
      "metadata": {
        "id": "4yNRqcmOSlXo"
      },
      "source": [
        "prime_numbers = []\n",
        "for i in range(2, 101):\n",
        "  i_is_prime = True\n",
        "  for j in range(2, i):\n",
        "    if i % j == 0:\n",
        "      i_is_prime = False\n",
        "  if i_is_prime:\n",
        "    prime_numbers.append(i)"
      ],
      "execution_count": null,
      "outputs": []
    },
    {
      "cell_type": "code",
      "metadata": {
        "id": "EMACw2TATFGx",
        "outputId": "18cd7ac5-8dc1-4030-f284-580d65abd8dc",
        "colab": {
          "base_uri": "https://localhost:8080/",
          "height": 461
        }
      },
      "source": [
        "prime_numbers"
      ],
      "execution_count": null,
      "outputs": [
        {
          "output_type": "execute_result",
          "data": {
            "text/plain": [
              "[2,\n",
              " 3,\n",
              " 5,\n",
              " 7,\n",
              " 11,\n",
              " 13,\n",
              " 17,\n",
              " 19,\n",
              " 23,\n",
              " 29,\n",
              " 31,\n",
              " 37,\n",
              " 41,\n",
              " 43,\n",
              " 47,\n",
              " 53,\n",
              " 59,\n",
              " 61,\n",
              " 67,\n",
              " 71,\n",
              " 73,\n",
              " 79,\n",
              " 83,\n",
              " 89,\n",
              " 97]"
            ]
          },
          "metadata": {
            "tags": []
          },
          "execution_count": 69
        }
      ]
    },
    {
      "cell_type": "code",
      "metadata": {
        "id": "dO1lcoKbTG85"
      },
      "source": [
        "prime_numbers = []\n",
        "for i in range(2, 101):\n",
        "  i_is_prime = True\n",
        "  for j in range(2, i):\n",
        "    if i % j == 0:\n",
        "      i_is_prime = False\n",
        "      break\n",
        "  if i_is_prime:\n",
        "    prime_numbers.append(i)"
      ],
      "execution_count": null,
      "outputs": []
    },
    {
      "cell_type": "code",
      "metadata": {
        "id": "EL6AxrTBTswn",
        "outputId": "a06dd9ea-7bd7-44a0-8ac1-bef26af01c14",
        "colab": {
          "base_uri": "https://localhost:8080/",
          "height": 35
        }
      },
      "source": [
        "len(prime_numbers)"
      ],
      "execution_count": null,
      "outputs": [
        {
          "output_type": "execute_result",
          "data": {
            "text/plain": [
              "25"
            ]
          },
          "metadata": {
            "tags": []
          },
          "execution_count": 71
        }
      ]
    },
    {
      "cell_type": "code",
      "metadata": {
        "id": "R7gPBSuBTuC7"
      },
      "source": [
        "l1 = [1, 2, \"orange\", 5, 3, True, [3, 2, 1]]"
      ],
      "execution_count": null,
      "outputs": []
    },
    {
      "cell_type": "code",
      "metadata": {
        "id": "excLtobNT4gU"
      },
      "source": [
        "l2 = l1"
      ],
      "execution_count": null,
      "outputs": []
    },
    {
      "cell_type": "code",
      "metadata": {
        "id": "mOQrD7xKT8a5",
        "outputId": "e2e9088f-bdac-426d-a074-b711fdb70a59",
        "colab": {
          "base_uri": "https://localhost:8080/",
          "height": 35
        }
      },
      "source": [
        "l2"
      ],
      "execution_count": null,
      "outputs": [
        {
          "output_type": "execute_result",
          "data": {
            "text/plain": [
              "[1, 2, 'orange', 5, 3, True, [3, 2, 1]]"
            ]
          },
          "metadata": {
            "tags": []
          },
          "execution_count": 74
        }
      ]
    },
    {
      "cell_type": "code",
      "metadata": {
        "id": "VVvueESCT9AK",
        "outputId": "f69f88b3-3157-4fdd-9669-6e3807a1faea",
        "colab": {
          "base_uri": "https://localhost:8080/",
          "height": 35
        }
      },
      "source": [
        "l2.pop()"
      ],
      "execution_count": null,
      "outputs": [
        {
          "output_type": "execute_result",
          "data": {
            "text/plain": [
              "[3, 2, 1]"
            ]
          },
          "metadata": {
            "tags": []
          },
          "execution_count": 75
        }
      ]
    },
    {
      "cell_type": "code",
      "metadata": {
        "id": "R_YKT9PyUDtM",
        "outputId": "acb8a6c7-830d-449a-9f5d-6e8107ca293d",
        "colab": {
          "base_uri": "https://localhost:8080/",
          "height": 35
        }
      },
      "source": [
        "l2"
      ],
      "execution_count": null,
      "outputs": [
        {
          "output_type": "execute_result",
          "data": {
            "text/plain": [
              "[1, 2, 'orange', 5, 3, True]"
            ]
          },
          "metadata": {
            "tags": []
          },
          "execution_count": 76
        }
      ]
    },
    {
      "cell_type": "code",
      "metadata": {
        "id": "L87EzNg7UFyl",
        "outputId": "769de264-9249-43fd-ca73-f8a84da20bed",
        "colab": {
          "base_uri": "https://localhost:8080/",
          "height": 35
        }
      },
      "source": [
        "l1"
      ],
      "execution_count": null,
      "outputs": [
        {
          "output_type": "execute_result",
          "data": {
            "text/plain": [
              "[1, 2, 'orange', 5, 3, True]"
            ]
          },
          "metadata": {
            "tags": []
          },
          "execution_count": 77
        }
      ]
    },
    {
      "cell_type": "code",
      "metadata": {
        "id": "q7k9-cXPUJPI"
      },
      "source": [
        ""
      ],
      "execution_count": null,
      "outputs": []
    },
    {
      "cell_type": "markdown",
      "metadata": {
        "id": "o_QILIHMURNO"
      },
      "source": [
        "![python_mind.png](data:image/png;base64,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)"
      ]
    },
    {
      "cell_type": "code",
      "metadata": {
        "id": "MObKNNVdUVJ3",
        "outputId": "d0018cd3-702a-4e71-a3d4-f6b28104dcd4",
        "colab": {
          "base_uri": "https://localhost:8080/",
          "height": 35
        }
      },
      "source": [
        "l1 is l2"
      ],
      "execution_count": null,
      "outputs": [
        {
          "output_type": "execute_result",
          "data": {
            "text/plain": [
              "True"
            ]
          },
          "metadata": {
            "tags": []
          },
          "execution_count": 78
        }
      ]
    },
    {
      "cell_type": "code",
      "metadata": {
        "id": "O0KV04HWU0E_",
        "outputId": "677637af-53a1-488e-b361-b4617df80ace",
        "colab": {
          "base_uri": "https://localhost:8080/",
          "height": 35
        }
      },
      "source": [
        "l1"
      ],
      "execution_count": null,
      "outputs": [
        {
          "output_type": "execute_result",
          "data": {
            "text/plain": [
              "[1, 2, 'orange', 5, 3, True]"
            ]
          },
          "metadata": {
            "tags": []
          },
          "execution_count": 79
        }
      ]
    },
    {
      "cell_type": "code",
      "metadata": {
        "id": "Uy0ZfFSvU18E"
      },
      "source": [
        "l3 = l1.copy()"
      ],
      "execution_count": null,
      "outputs": []
    },
    {
      "cell_type": "code",
      "metadata": {
        "id": "67x62hg_U6Sp",
        "outputId": "3c6dc12a-41b9-4f64-cc73-fa05dfeeb993",
        "colab": {
          "base_uri": "https://localhost:8080/",
          "height": 35
        }
      },
      "source": [
        "l3"
      ],
      "execution_count": null,
      "outputs": [
        {
          "output_type": "execute_result",
          "data": {
            "text/plain": [
              "[1, 2, 'orange', 5, 3, True]"
            ]
          },
          "metadata": {
            "tags": []
          },
          "execution_count": 82
        }
      ]
    },
    {
      "cell_type": "code",
      "metadata": {
        "id": "M4AV3N5gU8Cg"
      },
      "source": [
        "l3.append(\"something\")"
      ],
      "execution_count": null,
      "outputs": []
    },
    {
      "cell_type": "code",
      "metadata": {
        "id": "-XLqyQajU_Nn",
        "outputId": "167ddba7-b272-48db-bef1-a924b8176644",
        "colab": {
          "base_uri": "https://localhost:8080/",
          "height": 35
        }
      },
      "source": [
        "l3"
      ],
      "execution_count": null,
      "outputs": [
        {
          "output_type": "execute_result",
          "data": {
            "text/plain": [
              "[1, 2, 'orange', 5, 3, True, 'something']"
            ]
          },
          "metadata": {
            "tags": []
          },
          "execution_count": 84
        }
      ]
    },
    {
      "cell_type": "code",
      "metadata": {
        "id": "5v4rDBWeU_3x",
        "outputId": "759d3864-53f4-40f1-cd90-d77bf5e10fc8",
        "colab": {
          "base_uri": "https://localhost:8080/",
          "height": 35
        }
      },
      "source": [
        "l1"
      ],
      "execution_count": null,
      "outputs": [
        {
          "output_type": "execute_result",
          "data": {
            "text/plain": [
              "[1, 2, 'orange', 5, 3, True]"
            ]
          },
          "metadata": {
            "tags": []
          },
          "execution_count": 85
        }
      ]
    },
    {
      "cell_type": "code",
      "metadata": {
        "id": "zR_kEEAxVAz2"
      },
      "source": [
        "l4 = l1.copy()"
      ],
      "execution_count": null,
      "outputs": []
    },
    {
      "cell_type": "code",
      "metadata": {
        "id": "pE1n5oCUVDUw",
        "outputId": "fb8e9a0a-b41b-4f5f-8cc2-44f51e4c0bd1",
        "colab": {
          "base_uri": "https://localhost:8080/",
          "height": 35
        }
      },
      "source": [
        "l1 == l4"
      ],
      "execution_count": null,
      "outputs": [
        {
          "output_type": "execute_result",
          "data": {
            "text/plain": [
              "True"
            ]
          },
          "metadata": {
            "tags": []
          },
          "execution_count": 87
        }
      ]
    },
    {
      "cell_type": "code",
      "metadata": {
        "id": "5fcf7UVFVFC3",
        "outputId": "35dec4f5-751b-41d7-9f57-e45423714eb4",
        "colab": {
          "base_uri": "https://localhost:8080/",
          "height": 35
        }
      },
      "source": [
        "l1 is l4"
      ],
      "execution_count": null,
      "outputs": [
        {
          "output_type": "execute_result",
          "data": {
            "text/plain": [
              "False"
            ]
          },
          "metadata": {
            "tags": []
          },
          "execution_count": 88
        }
      ]
    },
    {
      "cell_type": "code",
      "metadata": {
        "id": "0NbqRWIBVGa8"
      },
      "source": [
        "# =     ==     is\n",
        "a = 3"
      ],
      "execution_count": null,
      "outputs": []
    },
    {
      "cell_type": "code",
      "metadata": {
        "id": "anvg8_hcVWZt",
        "outputId": "d9789fe2-232a-4ccb-a668-37176edca5b9",
        "colab": {
          "base_uri": "https://localhost:8080/",
          "height": 35
        }
      },
      "source": [
        "a == 4"
      ],
      "execution_count": null,
      "outputs": [
        {
          "output_type": "execute_result",
          "data": {
            "text/plain": [
              "False"
            ]
          },
          "metadata": {
            "tags": []
          },
          "execution_count": 90
        }
      ]
    },
    {
      "cell_type": "code",
      "metadata": {
        "id": "M2J7jK55VZKY"
      },
      "source": [
        "a = 9"
      ],
      "execution_count": null,
      "outputs": []
    },
    {
      "cell_type": "code",
      "metadata": {
        "id": "mrVKzItTVf-w"
      },
      "source": [
        "b = 3 + 6"
      ],
      "execution_count": null,
      "outputs": []
    },
    {
      "cell_type": "code",
      "metadata": {
        "id": "uzhLRzIEVhGS",
        "outputId": "0c0b4301-f88c-49e5-be39-973491da51ec",
        "colab": {
          "base_uri": "https://localhost:8080/",
          "height": 35
        }
      },
      "source": [
        "a is b"
      ],
      "execution_count": null,
      "outputs": [
        {
          "output_type": "execute_result",
          "data": {
            "text/plain": [
              "True"
            ]
          },
          "metadata": {
            "tags": []
          },
          "execution_count": 93
        }
      ]
    },
    {
      "cell_type": "code",
      "metadata": {
        "id": "4j9k_hDtVmfd"
      },
      "source": [
        "a = 100000"
      ],
      "execution_count": null,
      "outputs": []
    },
    {
      "cell_type": "code",
      "metadata": {
        "id": "KRtWnnW5Vq7H"
      },
      "source": [
        "b = 100 * 1000"
      ],
      "execution_count": null,
      "outputs": []
    },
    {
      "cell_type": "code",
      "metadata": {
        "id": "RSPRf6r_VsYM",
        "outputId": "f07bdb71-3bc7-40b0-c45e-78f63d6d1eca",
        "colab": {
          "base_uri": "https://localhost:8080/",
          "height": 35
        }
      },
      "source": [
        "a is b"
      ],
      "execution_count": null,
      "outputs": [
        {
          "output_type": "execute_result",
          "data": {
            "text/plain": [
              "False"
            ]
          },
          "metadata": {
            "tags": []
          },
          "execution_count": 96
        }
      ]
    },
    {
      "cell_type": "code",
      "metadata": {
        "id": "D2EvkoK2VtBe",
        "outputId": "dfed7358-0fa6-40de-9539-5bff4bd875c1",
        "colab": {
          "base_uri": "https://localhost:8080/",
          "height": 35
        }
      },
      "source": [
        "a == b"
      ],
      "execution_count": null,
      "outputs": [
        {
          "output_type": "execute_result",
          "data": {
            "text/plain": [
              "True"
            ]
          },
          "metadata": {
            "tags": []
          },
          "execution_count": 97
        }
      ]
    },
    {
      "cell_type": "code",
      "metadata": {
        "id": "rbJ5gVxXV0tR"
      },
      "source": [
        "a = 123\n",
        "b =  122 + 1"
      ],
      "execution_count": null,
      "outputs": []
    },
    {
      "cell_type": "code",
      "metadata": {
        "id": "I5rr95PZWOMf",
        "outputId": "990371d8-42ca-4f14-a025-b5a580c80cdc",
        "colab": {
          "base_uri": "https://localhost:8080/",
          "height": 35
        }
      },
      "source": [
        "a is b"
      ],
      "execution_count": null,
      "outputs": [
        {
          "output_type": "execute_result",
          "data": {
            "text/plain": [
              "True"
            ]
          },
          "metadata": {
            "tags": []
          },
          "execution_count": 99
        }
      ]
    },
    {
      "cell_type": "code",
      "metadata": {
        "id": "PPuYVREhWOtM"
      },
      "source": [
        "a = 125\n",
        "b = 126 - 1"
      ],
      "execution_count": null,
      "outputs": []
    },
    {
      "cell_type": "code",
      "metadata": {
        "id": "Xm9IXbRAWQyL",
        "outputId": "43efe62c-b504-471c-c7e4-9840cd05628f",
        "colab": {
          "base_uri": "https://localhost:8080/",
          "height": 35
        }
      },
      "source": [
        "a is b"
      ],
      "execution_count": null,
      "outputs": [
        {
          "output_type": "execute_result",
          "data": {
            "text/plain": [
              "True"
            ]
          },
          "metadata": {
            "tags": []
          },
          "execution_count": 101
        }
      ]
    },
    {
      "cell_type": "code",
      "metadata": {
        "id": "ozqUvv59WRYO"
      },
      "source": [
        "a = 3"
      ],
      "execution_count": null,
      "outputs": []
    },
    {
      "cell_type": "code",
      "metadata": {
        "id": "uyY7JofcWdBS"
      },
      "source": [
        "a = 4"
      ],
      "execution_count": null,
      "outputs": []
    },
    {
      "cell_type": "code",
      "metadata": {
        "id": "08vzFIewWdrg"
      },
      "source": [
        "a = \"a string\""
      ],
      "execution_count": null,
      "outputs": []
    },
    {
      "cell_type": "code",
      "metadata": {
        "id": "AOQtg2l5WkrQ",
        "outputId": "f9678b1b-63b1-4c4a-ead0-c4d98967d1a3",
        "colab": {
          "base_uri": "https://localhost:8080/",
          "height": 171
        }
      },
      "source": [
        "a[4] = 'w'"
      ],
      "execution_count": null,
      "outputs": [
        {
          "output_type": "error",
          "ename": "TypeError",
          "evalue": "ignored",
          "traceback": [
            "\u001b[0;31m---------------------------------------------------------------------------\u001b[0m",
            "\u001b[0;31mTypeError\u001b[0m                                 Traceback (most recent call last)",
            "\u001b[0;32m<ipython-input-106-7ae13ffe4abe>\u001b[0m in \u001b[0;36m<module>\u001b[0;34m()\u001b[0m\n\u001b[0;32m----> 1\u001b[0;31m \u001b[0ma\u001b[0m\u001b[0;34m[\u001b[0m\u001b[0;36m4\u001b[0m\u001b[0;34m]\u001b[0m \u001b[0;34m=\u001b[0m \u001b[0;34m'w'\u001b[0m\u001b[0;34m\u001b[0m\u001b[0;34m\u001b[0m\u001b[0m\n\u001b[0m",
            "\u001b[0;31mTypeError\u001b[0m: 'str' object does not support item assignment"
          ]
        }
      ]
    },
    {
      "cell_type": "code",
      "metadata": {
        "id": "gv2krzFAWmKi"
      },
      "source": [
        "l1[2] = \"strawberry\""
      ],
      "execution_count": null,
      "outputs": []
    },
    {
      "cell_type": "code",
      "metadata": {
        "id": "bQ742zN-Wsvf",
        "outputId": "e41e77b9-5e5b-4c1d-eb63-2a255e3525d5",
        "colab": {
          "base_uri": "https://localhost:8080/",
          "height": 35
        }
      },
      "source": [
        "l1"
      ],
      "execution_count": null,
      "outputs": [
        {
          "output_type": "execute_result",
          "data": {
            "text/plain": [
              "[1, 2, 'strawberry', 5, 3, True]"
            ]
          },
          "metadata": {
            "tags": []
          },
          "execution_count": 109
        }
      ]
    },
    {
      "cell_type": "code",
      "metadata": {
        "id": "wv2m_7SQWwAn"
      },
      "source": [
        "l1 = [4, 7, 2]"
      ],
      "execution_count": null,
      "outputs": []
    },
    {
      "cell_type": "code",
      "metadata": {
        "id": "g5RVQMbCW027",
        "outputId": "25602a34-2461-413c-8442-fe0e9e70e0dc",
        "colab": {
          "base_uri": "https://localhost:8080/",
          "height": 35
        }
      },
      "source": [
        "sorted(l1)"
      ],
      "execution_count": null,
      "outputs": [
        {
          "output_type": "execute_result",
          "data": {
            "text/plain": [
              "[2, 4, 7]"
            ]
          },
          "metadata": {
            "tags": []
          },
          "execution_count": 111
        }
      ]
    },
    {
      "cell_type": "code",
      "metadata": {
        "id": "GZ3gU7V6W3jV"
      },
      "source": [
        "l1.sort()"
      ],
      "execution_count": null,
      "outputs": []
    },
    {
      "cell_type": "code",
      "metadata": {
        "id": "suwE14jeW7oh",
        "outputId": "a48321de-3243-4193-f747-6d9a3d912d40",
        "colab": {
          "base_uri": "https://localhost:8080/",
          "height": 35
        }
      },
      "source": [
        "l1"
      ],
      "execution_count": null,
      "outputs": [
        {
          "output_type": "execute_result",
          "data": {
            "text/plain": [
              "[2, 4, 7]"
            ]
          },
          "metadata": {
            "tags": []
          },
          "execution_count": 113
        }
      ]
    },
    {
      "cell_type": "code",
      "metadata": {
        "id": "bjeuF2aFW8Jh",
        "outputId": "215e3198-01d7-4945-9a22-080774f447a4",
        "colab": {
          "base_uri": "https://localhost:8080/",
          "height": 35
        }
      },
      "source": [
        "l1 = [4, 7, 2]\n",
        "sorted(l1)"
      ],
      "execution_count": null,
      "outputs": [
        {
          "output_type": "execute_result",
          "data": {
            "text/plain": [
              "[2, 4, 7]"
            ]
          },
          "metadata": {
            "tags": []
          },
          "execution_count": 114
        }
      ]
    },
    {
      "cell_type": "code",
      "metadata": {
        "id": "t61NtV71XAVh",
        "outputId": "26959a2a-7237-4e5b-eaf3-bea4b0da73ef",
        "colab": {
          "base_uri": "https://localhost:8080/",
          "height": 35
        }
      },
      "source": [
        "l1"
      ],
      "execution_count": null,
      "outputs": [
        {
          "output_type": "execute_result",
          "data": {
            "text/plain": [
              "[4, 7, 2]"
            ]
          },
          "metadata": {
            "tags": []
          },
          "execution_count": 115
        }
      ]
    },
    {
      "cell_type": "code",
      "metadata": {
        "id": "YSUO5QRGXBXB"
      },
      "source": [
        "l1.sort()"
      ],
      "execution_count": null,
      "outputs": []
    },
    {
      "cell_type": "code",
      "metadata": {
        "id": "rf3QgFslXHal",
        "outputId": "c81d5f9e-c258-47b8-bc67-95d475084163",
        "colab": {
          "base_uri": "https://localhost:8080/",
          "height": 35
        }
      },
      "source": [
        "l1"
      ],
      "execution_count": null,
      "outputs": [
        {
          "output_type": "execute_result",
          "data": {
            "text/plain": [
              "[2, 4, 7]"
            ]
          },
          "metadata": {
            "tags": []
          },
          "execution_count": 117
        }
      ]
    },
    {
      "cell_type": "code",
      "metadata": {
        "id": "hYxoEojZXH6L"
      },
      "source": [
        ""
      ],
      "execution_count": null,
      "outputs": []
    },
    {
      "cell_type": "markdown",
      "metadata": {
        "id": "dXGRGEnCXKXQ"
      },
      "source": [
        "![python_mind2.png](data:image/png;base64,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)"
      ]
    },
    {
      "cell_type": "code",
      "metadata": {
        "id": "cqK-2jmyXL_1"
      },
      "source": [
        "digit_3_numbers = []\n",
        "for i in range(100):\n",
        "  if '3' in str(i):\n",
        "    digit_3_numbers.append(i)"
      ],
      "execution_count": null,
      "outputs": []
    },
    {
      "cell_type": "code",
      "metadata": {
        "id": "Q0fuGTWBXmZn",
        "outputId": "fa0fd73b-1662-492f-fe6d-72c46bfcfc9e",
        "colab": {
          "base_uri": "https://localhost:8080/",
          "height": 35
        }
      },
      "source": [
        "print(digit_3_numbers)"
      ],
      "execution_count": null,
      "outputs": [
        {
          "output_type": "stream",
          "text": [
            "[3, 13, 23, 30, 31, 32, 33, 34, 35, 36, 37, 38, 39, 43, 53, 63, 73, 83, 93]\n"
          ],
          "name": "stdout"
        }
      ]
    },
    {
      "cell_type": "code",
      "metadata": {
        "id": "ya8RX408Xp6y",
        "outputId": "2f1ea87c-b07a-4dbf-de62-1f22ff6b3e6b",
        "colab": {
          "base_uri": "https://localhost:8080/",
          "height": 55
        }
      },
      "source": [
        "squares = []\n",
        "for i in range(100):\n",
        "  squares.append(i**2)\n",
        "print(squares)"
      ],
      "execution_count": null,
      "outputs": [
        {
          "output_type": "stream",
          "text": [
            "[0, 1, 4, 9, 16, 25, 36, 49, 64, 81, 100, 121, 144, 169, 196, 225, 256, 289, 324, 361, 400, 441, 484, 529, 576, 625, 676, 729, 784, 841, 900, 961, 1024, 1089, 1156, 1225, 1296, 1369, 1444, 1521, 1600, 1681, 1764, 1849, 1936, 2025, 2116, 2209, 2304, 2401, 2500, 2601, 2704, 2809, 2916, 3025, 3136, 3249, 3364, 3481, 3600, 3721, 3844, 3969, 4096, 4225, 4356, 4489, 4624, 4761, 4900, 5041, 5184, 5329, 5476, 5625, 5776, 5929, 6084, 6241, 6400, 6561, 6724, 6889, 7056, 7225, 7396, 7569, 7744, 7921, 8100, 8281, 8464, 8649, 8836, 9025, 9216, 9409, 9604, 9801]\n"
          ],
          "name": "stdout"
        }
      ]
    },
    {
      "cell_type": "code",
      "metadata": {
        "id": "VTsxjsrgXx2g"
      },
      "source": [
        "squares = [i**2 for i in range(100)]"
      ],
      "execution_count": null,
      "outputs": []
    },
    {
      "cell_type": "code",
      "metadata": {
        "id": "bCfVGZWkX4uv",
        "outputId": "d3c090d4-0881-431f-c54e-971e1980a8d1",
        "colab": {
          "base_uri": "https://localhost:8080/",
          "height": 1000
        }
      },
      "source": [
        "squares"
      ],
      "execution_count": null,
      "outputs": [
        {
          "output_type": "execute_result",
          "data": {
            "text/plain": [
              "[0,\n",
              " 1,\n",
              " 4,\n",
              " 9,\n",
              " 16,\n",
              " 25,\n",
              " 36,\n",
              " 49,\n",
              " 64,\n",
              " 81,\n",
              " 100,\n",
              " 121,\n",
              " 144,\n",
              " 169,\n",
              " 196,\n",
              " 225,\n",
              " 256,\n",
              " 289,\n",
              " 324,\n",
              " 361,\n",
              " 400,\n",
              " 441,\n",
              " 484,\n",
              " 529,\n",
              " 576,\n",
              " 625,\n",
              " 676,\n",
              " 729,\n",
              " 784,\n",
              " 841,\n",
              " 900,\n",
              " 961,\n",
              " 1024,\n",
              " 1089,\n",
              " 1156,\n",
              " 1225,\n",
              " 1296,\n",
              " 1369,\n",
              " 1444,\n",
              " 1521,\n",
              " 1600,\n",
              " 1681,\n",
              " 1764,\n",
              " 1849,\n",
              " 1936,\n",
              " 2025,\n",
              " 2116,\n",
              " 2209,\n",
              " 2304,\n",
              " 2401,\n",
              " 2500,\n",
              " 2601,\n",
              " 2704,\n",
              " 2809,\n",
              " 2916,\n",
              " 3025,\n",
              " 3136,\n",
              " 3249,\n",
              " 3364,\n",
              " 3481,\n",
              " 3600,\n",
              " 3721,\n",
              " 3844,\n",
              " 3969,\n",
              " 4096,\n",
              " 4225,\n",
              " 4356,\n",
              " 4489,\n",
              " 4624,\n",
              " 4761,\n",
              " 4900,\n",
              " 5041,\n",
              " 5184,\n",
              " 5329,\n",
              " 5476,\n",
              " 5625,\n",
              " 5776,\n",
              " 5929,\n",
              " 6084,\n",
              " 6241,\n",
              " 6400,\n",
              " 6561,\n",
              " 6724,\n",
              " 6889,\n",
              " 7056,\n",
              " 7225,\n",
              " 7396,\n",
              " 7569,\n",
              " 7744,\n",
              " 7921,\n",
              " 8100,\n",
              " 8281,\n",
              " 8464,\n",
              " 8649,\n",
              " 8836,\n",
              " 9025,\n",
              " 9216,\n",
              " 9409,\n",
              " 9604,\n",
              " 9801]"
            ]
          },
          "metadata": {
            "tags": []
          },
          "execution_count": 122
        }
      ]
    },
    {
      "cell_type": "code",
      "metadata": {
        "id": "TC1tBf4mX5Uj"
      },
      "source": [
        "digit_3_squares = [i**2 for i in range(100) if '3' in str(i)]"
      ],
      "execution_count": null,
      "outputs": []
    },
    {
      "cell_type": "code",
      "metadata": {
        "id": "DPyR2TC5YIDE",
        "outputId": "b5a6b40d-6eda-425c-9298-846a88c95d5f",
        "colab": {
          "base_uri": "https://localhost:8080/",
          "height": 354
        }
      },
      "source": [
        "digit_3_squares"
      ],
      "execution_count": null,
      "outputs": [
        {
          "output_type": "execute_result",
          "data": {
            "text/plain": [
              "[9,\n",
              " 169,\n",
              " 529,\n",
              " 900,\n",
              " 961,\n",
              " 1024,\n",
              " 1089,\n",
              " 1156,\n",
              " 1225,\n",
              " 1296,\n",
              " 1369,\n",
              " 1444,\n",
              " 1521,\n",
              " 1849,\n",
              " 2809,\n",
              " 3969,\n",
              " 5329,\n",
              " 6889,\n",
              " 8649]"
            ]
          },
          "metadata": {
            "tags": []
          },
          "execution_count": 124
        }
      ]
    },
    {
      "cell_type": "code",
      "metadata": {
        "id": "hOAufHTJYM-W"
      },
      "source": [
        "del a"
      ],
      "execution_count": null,
      "outputs": []
    },
    {
      "cell_type": "code",
      "metadata": {
        "id": "eqeVCezaZYBa",
        "outputId": "49045bc6-bbda-4455-aafd-f7786faf19f5",
        "colab": {
          "base_uri": "https://localhost:8080/",
          "height": 35
        }
      },
      "source": [
        "b = True\n",
        "b == True"
      ],
      "execution_count": null,
      "outputs": [
        {
          "output_type": "execute_result",
          "data": {
            "text/plain": [
              "True"
            ]
          },
          "metadata": {
            "tags": []
          },
          "execution_count": 126
        }
      ]
    },
    {
      "cell_type": "code",
      "metadata": {
        "id": "oLMvtXH_b6FP",
        "outputId": "e8a11be8-6813-4cf4-a6ab-e9b0e8c4b185",
        "colab": {
          "base_uri": "https://localhost:8080/",
          "height": 35
        }
      },
      "source": [
        "b is True"
      ],
      "execution_count": null,
      "outputs": [
        {
          "output_type": "execute_result",
          "data": {
            "text/plain": [
              "True"
            ]
          },
          "metadata": {
            "tags": []
          },
          "execution_count": 127
        }
      ]
    },
    {
      "cell_type": "code",
      "metadata": {
        "id": "Dv3CpnJ7b8L8",
        "outputId": "e3b30702-eaeb-4fb5-c621-3e8b212306c5",
        "colab": {
          "base_uri": "https://localhost:8080/",
          "height": 35
        }
      },
      "source": [
        "b is None"
      ],
      "execution_count": null,
      "outputs": [
        {
          "output_type": "execute_result",
          "data": {
            "text/plain": [
              "False"
            ]
          },
          "metadata": {
            "tags": []
          },
          "execution_count": 128
        }
      ]
    },
    {
      "cell_type": "code",
      "metadata": {
        "id": "9Vtk_lp8b9OF"
      },
      "source": [
        "def f(x):\n",
        "  return x ** 2"
      ],
      "execution_count": null,
      "outputs": []
    },
    {
      "cell_type": "code",
      "metadata": {
        "id": "_BHhmFAycJJY",
        "outputId": "13672328-58a8-49d0-8da0-48b1b8161ddb",
        "colab": {
          "base_uri": "https://localhost:8080/",
          "height": 35
        }
      },
      "source": [
        "f(10)"
      ],
      "execution_count": null,
      "outputs": [
        {
          "output_type": "execute_result",
          "data": {
            "text/plain": [
              "100"
            ]
          },
          "metadata": {
            "tags": []
          },
          "execution_count": 130
        }
      ]
    },
    {
      "cell_type": "code",
      "metadata": {
        "id": "p8VffP7PcNZS"
      },
      "source": [
        "def f(x):\n",
        "  print(x ** 2)"
      ],
      "execution_count": null,
      "outputs": []
    },
    {
      "cell_type": "code",
      "metadata": {
        "id": "pBUFBRNpcsHp",
        "outputId": "14abd242-fbf8-49d6-b187-d68e3f7d6369",
        "colab": {
          "base_uri": "https://localhost:8080/",
          "height": 35
        }
      },
      "source": [
        "f(3)"
      ],
      "execution_count": null,
      "outputs": [
        {
          "output_type": "stream",
          "text": [
            "9\n"
          ],
          "name": "stdout"
        }
      ]
    },
    {
      "cell_type": "code",
      "metadata": {
        "id": "d32WCurbctRD",
        "outputId": "51d80fef-4380-4434-dd1e-b3af5dbfd56a",
        "colab": {
          "base_uri": "https://localhost:8080/",
          "height": 35
        }
      },
      "source": [
        "b = f(3)"
      ],
      "execution_count": null,
      "outputs": [
        {
          "output_type": "stream",
          "text": [
            "9\n"
          ],
          "name": "stdout"
        }
      ]
    },
    {
      "cell_type": "code",
      "metadata": {
        "id": "QNVQesZjcx5h",
        "outputId": "ee51af51-d434-4481-b01a-34b989c7b61b",
        "colab": {
          "base_uri": "https://localhost:8080/",
          "height": 35
        }
      },
      "source": [
        "print(b)"
      ],
      "execution_count": null,
      "outputs": [
        {
          "output_type": "stream",
          "text": [
            "None\n"
          ],
          "name": "stdout"
        }
      ]
    },
    {
      "cell_type": "code",
      "metadata": {
        "id": "cp9AL7WbczJU"
      },
      "source": [
        "def is_prime(x):\n",
        "  if x in [0, 1]:\n",
        "    return False\n",
        "  for i in range(2, x):\n",
        "    if x % i == 0:\n",
        "      return False\n",
        "  return True"
      ],
      "execution_count": null,
      "outputs": []
    },
    {
      "cell_type": "code",
      "metadata": {
        "id": "p7uqAedFd1nO",
        "outputId": "43483227-cdcb-40cd-c6d3-ae5461ae94c1",
        "colab": {
          "base_uri": "https://localhost:8080/",
          "height": 35
        }
      },
      "source": [
        "is_prime(10)"
      ],
      "execution_count": null,
      "outputs": [
        {
          "output_type": "execute_result",
          "data": {
            "text/plain": [
              "False"
            ]
          },
          "metadata": {
            "tags": []
          },
          "execution_count": 136
        }
      ]
    },
    {
      "cell_type": "code",
      "metadata": {
        "id": "aKnPLbJgd20k",
        "outputId": "6a23b22f-e1c6-4a6a-d9ed-0f87f76839e8",
        "colab": {
          "base_uri": "https://localhost:8080/",
          "height": 35
        }
      },
      "source": [
        "is_prime(11)"
      ],
      "execution_count": null,
      "outputs": [
        {
          "output_type": "execute_result",
          "data": {
            "text/plain": [
              "True"
            ]
          },
          "metadata": {
            "tags": []
          },
          "execution_count": 137
        }
      ]
    },
    {
      "cell_type": "code",
      "metadata": {
        "id": "0ycVq3bJd3qM"
      },
      "source": [
        "a = 10\n",
        "\n",
        "def f(x):\n",
        "  print(a)\n",
        "  return x ** 2"
      ],
      "execution_count": null,
      "outputs": []
    },
    {
      "cell_type": "code",
      "metadata": {
        "id": "83Bh3xzQeORy",
        "outputId": "b2011722-01c6-4e04-d407-2a3bb7b22d15",
        "colab": {
          "base_uri": "https://localhost:8080/",
          "height": 53
        }
      },
      "source": [
        "f(7)"
      ],
      "execution_count": null,
      "outputs": [
        {
          "output_type": "stream",
          "text": [
            "10\n"
          ],
          "name": "stdout"
        },
        {
          "output_type": "execute_result",
          "data": {
            "text/plain": [
              "49"
            ]
          },
          "metadata": {
            "tags": []
          },
          "execution_count": 140
        }
      ]
    },
    {
      "cell_type": "code",
      "metadata": {
        "id": "u-ySAci6eS8_"
      },
      "source": [
        "def g(x):\n",
        "  a = 0\n",
        "  return x ** 3 + a"
      ],
      "execution_count": null,
      "outputs": []
    },
    {
      "cell_type": "code",
      "metadata": {
        "id": "3CjrPmWceg-k",
        "outputId": "6aaa5080-3c6c-4353-ce05-d4fe18cc4995",
        "colab": {
          "base_uri": "https://localhost:8080/",
          "height": 35
        }
      },
      "source": [
        "g(3)"
      ],
      "execution_count": null,
      "outputs": [
        {
          "output_type": "execute_result",
          "data": {
            "text/plain": [
              "27"
            ]
          },
          "metadata": {
            "tags": []
          },
          "execution_count": 142
        }
      ]
    },
    {
      "cell_type": "code",
      "metadata": {
        "id": "SgdylJL-ei0-",
        "outputId": "7bb9d41a-124e-4ee7-f972-4dfbda206cbe",
        "colab": {
          "base_uri": "https://localhost:8080/",
          "height": 35
        }
      },
      "source": [
        "a"
      ],
      "execution_count": null,
      "outputs": [
        {
          "output_type": "execute_result",
          "data": {
            "text/plain": [
              "10"
            ]
          },
          "metadata": {
            "tags": []
          },
          "execution_count": 143
        }
      ]
    },
    {
      "cell_type": "code",
      "metadata": {
        "id": "WIwdInijen60"
      },
      "source": [
        "import math"
      ],
      "execution_count": null,
      "outputs": []
    },
    {
      "cell_type": "code",
      "metadata": {
        "id": "UHp35YK2fGss",
        "outputId": "5df0789f-70b6-4d5c-f018-5675042bf49c",
        "colab": {
          "base_uri": "https://localhost:8080/",
          "height": 35
        }
      },
      "source": [
        "math.sqrt(100)"
      ],
      "execution_count": null,
      "outputs": [
        {
          "output_type": "execute_result",
          "data": {
            "text/plain": [
              "10.0"
            ]
          },
          "metadata": {
            "tags": []
          },
          "execution_count": 145
        }
      ]
    },
    {
      "cell_type": "code",
      "metadata": {
        "id": "CKldVCIofMig",
        "outputId": "5bfd50b9-6396-4c0b-b9b1-3c340b5f2a99",
        "colab": {
          "base_uri": "https://localhost:8080/",
          "height": 35
        }
      },
      "source": [
        "math.factorial(100)"
      ],
      "execution_count": null,
      "outputs": [
        {
          "output_type": "execute_result",
          "data": {
            "text/plain": [
              "93326215443944152681699238856266700490715968264381621468592963895217599993229915608941463976156518286253697920827223758251185210916864000000000000000000000000"
            ]
          },
          "metadata": {
            "tags": []
          },
          "execution_count": 146
        }
      ]
    },
    {
      "cell_type": "code",
      "metadata": {
        "id": "2Ns5nEuqfRT0"
      },
      "source": [
        "from math import sqrt"
      ],
      "execution_count": null,
      "outputs": []
    },
    {
      "cell_type": "code",
      "metadata": {
        "id": "IbBo7mUyfvpf",
        "outputId": "0d9ce058-8dd7-4fad-dc61-d66b429908a7",
        "colab": {
          "base_uri": "https://localhost:8080/",
          "height": 35
        }
      },
      "source": [
        "sqrt(49)"
      ],
      "execution_count": null,
      "outputs": [
        {
          "output_type": "execute_result",
          "data": {
            "text/plain": [
              "7.0"
            ]
          },
          "metadata": {
            "tags": []
          },
          "execution_count": 148
        }
      ]
    },
    {
      "cell_type": "code",
      "metadata": {
        "id": "xbJaE9FKfxFA",
        "outputId": "28294d03-e129-4939-f9b1-5e8ab36e1934",
        "colab": {
          "base_uri": "https://localhost:8080/",
          "height": 171
        }
      },
      "source": [
        "factorial(10)"
      ],
      "execution_count": null,
      "outputs": [
        {
          "output_type": "error",
          "ename": "NameError",
          "evalue": "ignored",
          "traceback": [
            "\u001b[0;31m---------------------------------------------------------------------------\u001b[0m",
            "\u001b[0;31mNameError\u001b[0m                                 Traceback (most recent call last)",
            "\u001b[0;32m<ipython-input-149-15cb8a6cf86b>\u001b[0m in \u001b[0;36m<module>\u001b[0;34m()\u001b[0m\n\u001b[0;32m----> 1\u001b[0;31m \u001b[0mfactorial\u001b[0m\u001b[0;34m(\u001b[0m\u001b[0;36m10\u001b[0m\u001b[0;34m)\u001b[0m\u001b[0;34m\u001b[0m\u001b[0;34m\u001b[0m\u001b[0m\n\u001b[0m",
            "\u001b[0;31mNameError\u001b[0m: name 'factorial' is not defined"
          ]
        }
      ]
    },
    {
      "cell_type": "code",
      "metadata": {
        "id": "7YszD05Mf_oW"
      },
      "source": [
        "from math import *"
      ],
      "execution_count": null,
      "outputs": []
    },
    {
      "cell_type": "code",
      "metadata": {
        "id": "KLQ19EKFgB1P",
        "outputId": "c2413eb0-8744-4279-ca0a-82c92fe2d9e9",
        "colab": {
          "base_uri": "https://localhost:8080/",
          "height": 35
        }
      },
      "source": [
        "factorial(10)"
      ],
      "execution_count": null,
      "outputs": [
        {
          "output_type": "execute_result",
          "data": {
            "text/plain": [
              "3628800"
            ]
          },
          "metadata": {
            "tags": []
          },
          "execution_count": 151
        }
      ]
    },
    {
      "cell_type": "code",
      "metadata": {
        "id": "fVQ6U_xwgFra"
      },
      "source": [
        "from numpy import *"
      ],
      "execution_count": null,
      "outputs": []
    },
    {
      "cell_type": "code",
      "metadata": {
        "id": "vArs2RJugXkh",
        "outputId": "39bb7c72-72be-42dc-bec8-94e0b534e736",
        "colab": {
          "base_uri": "https://localhost:8080/",
          "height": 35
        }
      },
      "source": [
        "sqrt is math.sqrt"
      ],
      "execution_count": null,
      "outputs": [
        {
          "output_type": "execute_result",
          "data": {
            "text/plain": [
              "False"
            ]
          },
          "metadata": {
            "tags": []
          },
          "execution_count": 153
        }
      ]
    },
    {
      "cell_type": "code",
      "metadata": {
        "id": "w10oLJtcgY49"
      },
      "source": [
        ""
      ],
      "execution_count": null,
      "outputs": []
    }
  ]
}