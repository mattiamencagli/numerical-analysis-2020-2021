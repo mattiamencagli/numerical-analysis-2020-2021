{
 "cells": [
  {
   "cell_type": "markdown",
   "metadata": {},
   "source": [
    "# Iterative methods for solving linear systems\n",
    "\n",
    "\n"
   ]
  },
  {
   "cell_type": "markdown",
   "metadata": {},
   "source": [
    "Recall the prototypal PDE problem introduced in the Lecture 08:\n",
    "$$\n",
    "-u_{xx}(x) = f(x)\\quad\\mathrm{ in }\\ \\Omega = (0, 1)\n",
    "$$\n",
    "$$\n",
    "u(x) = 0, \\quad\\mathrm{ on }\\ \\partial\\Omega = \\{0, 1\\}\n",
    "$$\n",
    "\n",
    "For the numerical discretization of the problem, we consider a **Finite Difference (FD) Approximation**. Let $n$ be an integer, a consider a uniform subdivision of the interval $(0,1)$ using $n$ equispaced points, denoted by $\\{x_i\\}_{i=0}^n$ . Moreover, let $u_i$ be the FD approximation of $u(x_i)$, and similarly $f_i \\approx f(x_i)$.\n",
    "\n",
    "The linear system that we need to solve is\n",
    "$$\n",
    "u_i = 0 \\qquad\\qquad\\qquad\\qquad i=0,\n",
    "$$\n",
    "$$\n",
    "\\frac{-u_{i-1} + 2u_i - u_{i+1}}{h^2} = f_i \\qquad\\qquad\\qquad i=1, \\ldots, n-1,\\qquad\\qquad\\qquad(P)\n",
    "$$\n",
    "$$\n",
    "u_i = 0 \\qquad\\qquad\\qquad\\qquad i=n.\n",
    "$$"
   ]
  },
  {
   "cell_type": "code",
   "execution_count": 1,
   "metadata": {},
   "outputs": [],
   "source": [
    "%matplotlib inline\n",
    "import numpy as np\n",
    "from matplotlib.pyplot import *\n",
    "\n",
    "n = 33\n",
    "h = 1./(n-1)\n",
    "\n",
    "x=np.linspace(0,1,n)\n",
    "\n",
    "a = -np.ones((n-1,)) # Offdiagonal entries\n",
    "b = 2*np.ones((n,)) # Diagonal entries\n",
    "A = (np.diag(a, -1) + np.diag(b, 0) + np.diag(a, +1))\n",
    "A /= h**2\n",
    "f = x*(1.-x)\n",
    "\n",
    "# Change first row of the matrix A\n",
    "A[0,:] = 0\n",
    "A[:,0] = 0\n",
    "A[0,0] = 1\n",
    "f[0] = 0\n",
    "\n",
    "# Change last row of the matrix A\n",
    "A[-1,:] = 0\n",
    "A[:,-1] = 0\n",
    "A[-1,-1] = 1\n",
    "f[-1] = 0\n",
    "\n",
    "# Solution by direct method\n",
    "u = np.linalg.solve(A, f)"
   ]
  },
  {
   "cell_type": "markdown",
   "metadata": {},
   "source": [
    "## Jacobi\n",
    "\n",
    "$$ \n",
    "x_i^{k+1} = \\frac{1}{A_{ii}} \\times \\left(b_i - \\sum_{j\\neq i} a_{ij}x_j^k\\right)\n",
    "$$\n",
    "\n"
   ]
  },
  {
   "cell_type": "code",
   "execution_count": 5,
   "metadata": {
    "scrolled": true
   },
   "outputs": [
    {
     "name": "stdout",
     "output_type": "stream",
     "text": [
      "final err= 9.953820406805036e-11\n",
      "final iter= 2912\n",
      "7.862795872145407e-07\n"
     ]
    }
   ],
   "source": [
    "def jacobi(A, b, nmax=10000, eps=1e-10):\n",
    "    err=1.0\n",
    "    n=0\n",
    "    sol=np.zeros((len(b)))\n",
    "    sol_new=np.zeros((len(b)))\n",
    "    while err>eps and n<nmax : \n",
    "        for i in range(len(b)):\n",
    "            sol_new[i]=(1/A[i,i])*(b[i]-np.dot(A[i,0:i],sol[0:i])-np.dot(A[i,i+1:len(b)],sol[i+1:len(b)]))\n",
    "        err = max(np.abs( sol_new - sol ) )\n",
    "        n +=1\n",
    "        sol[:]=sol_new[:]\n",
    "    print(\"final err=\",err)\n",
    "    print(\"final iter=\",n)\n",
    "    return sol_new\n",
    "\n",
    "sol_jacobi = jacobi(A, f)\n",
    "print(np.linalg.norm(sol_jacobi - u)/np.linalg.norm(u))"
   ]
  },
  {
   "cell_type": "markdown",
   "metadata": {},
   "source": [
    "## Gauss-Seidel\n",
    "\n",
    "$$ \n",
    "x_i^{k+1} = \\frac{1}{A_{ii}} \\times \\left(b_i - \\sum_{j=0}^{i-1} a_{ij}x_j^{k+1} - \\sum_{j=i+1}^{N} a_{ij}x_j^k\\right)\n",
    "$$"
   ]
  },
  {
   "cell_type": "code",
   "execution_count": 4,
   "metadata": {},
   "outputs": [
    {
     "name": "stdout",
     "output_type": "stream",
     "text": [
      "final err= 9.986736784761696e-11\n",
      "final iter= 1528\n",
      "3.9379697006483356e-07\n"
     ]
    }
   ],
   "source": [
    "def gauss_seidel(A,b,nmax=10000, eps=1e-10):\n",
    "    err=1.0\n",
    "    n=0\n",
    "    sol=np.zeros((len(b)))\n",
    "    sol_new=np.zeros((len(b)))\n",
    "    while err>eps and n<nmax : \n",
    "        for i in range(len(b)):\n",
    "            sol_new[i]=(1/A[i,i])*(b[i]-np.dot(A[i,0:i],sol_new[0:i])-np.dot(A[i,i+1:len(b)],sol[i+1:len(b)]))\n",
    "        err = max(np.abs( sol_new - sol ) )\n",
    "        n +=1\n",
    "        sol[:]=sol_new[:]\n",
    "    print(\"final err=\",err)\n",
    "    print(\"final iter=\",n)\n",
    "    return sol_new\n",
    "\n",
    "sol_gauss_seidel = gauss_seidel(A, f)\n",
    "print(np.linalg.norm(sol_gauss_seidel - u)/np.linalg.norm(u))"
   ]
  },
  {
   "cell_type": "markdown",
   "metadata": {
    "collapsed": true
   },
   "source": [
    "   ## Gradient method\n",
    "   $$\n",
    "   {\\bf r}^k = {\\bf b} - A {\\bf x}^k\n",
    "   $$\n",
    "   \n",
    "   $$\n",
    "   \\alpha^k = \\frac{{\\bf r}^{k^{T}} {\\bf r}^k}{{\\bf r}^{k^{T}} A{\\bf r}^k}\n",
    "   $$\n",
    "   \n",
    "   $$\n",
    "   {\\bf x}^{k+1} = {\\bf x}^k + \\alpha^k {\\bf r}^k\n",
    "   $$\n",
    "   \n",
    "   ### Preconditioned gradient method\n",
    "   $$\n",
    "   P{\\bf z}^k =  {\\bf r}^k\n",
    "   $$\n",
    "   \n",
    "   $$\n",
    "   \\alpha^k = \\frac{{\\bf z}^{k^{T}} {\\bf r}^k}{{\\bf z}^{k^{T}} A{\\bf z}^k}\n",
    "   $$\n",
    " \n",
    "   $$\n",
    "   {\\bf x}^{k+1} = {\\bf x}^k + \\alpha^k {\\bf z}^k\n",
    "   $$ \n",
    "   \n",
    "   $$\n",
    "   {\\bf r}^{k+1} = {\\bf r}^k  - \\alpha^k A{\\bf z}^k\n",
    "   $$"
   ]
  },
  {
   "cell_type": "code",
   "execution_count": 8,
   "metadata": {},
   "outputs": [
    {
     "name": "stdout",
     "output_type": "stream",
     "text": [
      "final err= 9.947539341894685e-11\n",
      "final iter= 3909\n",
      "7.0953071470574e-11\n",
      "\n",
      "final err= 1.783185031560722e-14\n",
      "final iter= 1\n",
      "6.888262765579997e-15\n"
     ]
    }
   ],
   "source": [
    "def gradient(A, b, P, nmax=8000, eps=1e-10):\n",
    "    err=1.0\n",
    "    n=0\n",
    "    sol=np.zeros((len(b)))\n",
    "    r=b-np.dot(A,sol)\n",
    "    while err>eps and n<nmax : \n",
    "        z=np.linalg.solve(P,r)\n",
    "        alpha=np.dot(z,r)/np.dot(z,np.dot(A,z))\n",
    "        sol=sol + alpha*z\n",
    "        r=r-alpha*np.dot(A,z)\n",
    "        err = np.linalg.norm(r,2)\n",
    "        n +=1\n",
    "    print(\"final err=\",err)\n",
    "    print(\"final iter=\",n)\n",
    "    return sol\n",
    "    \n",
    "sol_gradient = gradient(A, f, np.identity(len(A)))\n",
    "print(np.linalg.norm(sol_gradient - u)/np.linalg.norm(u))\n",
    "print()\n",
    "sol_preconditioned_gradient = gradient(A, f, A)\n",
    "print(np.linalg.norm(sol_preconditioned_gradient - u)/np.linalg.norm(u))"
   ]
  },
  {
   "cell_type": "markdown",
   "metadata": {},
   "source": [
    "## Conjugate gradient\n",
    "   \n",
    "   $$\n",
    "   \\alpha^k = \\frac{{\\bf p}^{k^{T}} {\\bf r}^k}{{\\bf p}^{k^{T}} A{\\bf p}^k}\n",
    "   $$\n",
    "   \n",
    "      \n",
    "   $$\n",
    "   {\\bf x}^{k+1} = {\\bf x}^k + \\alpha^k {\\bf p}^k\n",
    "   $$\n",
    "   \n",
    "   $$\n",
    "   {\\bf r}^{k+1} = {\\bf r}^k - \\alpha^kA {\\bf p}^k\n",
    "   $$\n",
    "\n",
    "   $$\n",
    "   \\beta^k = \\frac{(A{\\bf p}^{k})^{T}{\\bf r}^{k+1}}{(A{\\bf p}^{k})^{T}  {\\bf p}^k}\n",
    "   $$\n",
    "   \n",
    "   $$\n",
    "   {\\bf p}^{k+1} = {\\bf r}^{k+1} - \\beta^k{\\bf p}^k\n",
    "   $$\n",
    "\n",
    "   \n",
    "   ### Preconditioned conjugate gradient\n",
    "   \n",
    "   \n",
    "   $$\n",
    "   \\alpha^k = \\frac{{\\bf p}^{k^{T}} {\\bf r}^k}{(A{\\bf p}^{k})^{T}{\\bf p}^k}\n",
    "   $$\n",
    "   \n",
    "      \n",
    "   $$\n",
    "   {\\bf x}^{k+1} = {\\bf x}^k + \\alpha^k {\\bf p}^k\n",
    "   $$\n",
    "   \n",
    "   $$\n",
    "   {\\bf r}^{k+1} = {\\bf r}^k - \\alpha^kA {\\bf p}^k\n",
    "   $$\n",
    "\n",
    "$$\n",
    "P{\\bf z}^{k+1} = {\\bf r}^{k+1}\n",
    "$$\n",
    "\n",
    "   $$\n",
    "   \\beta^k = \\frac{(A{\\bf p}^{k})^{T}{\\bf z}^{k+1}}{{\\bf p}^{k^T}A  {\\bf p}^k}\n",
    "   $$\n",
    "   \n",
    "   $$\n",
    "   {\\bf p}^{k+1} = {\\bf z}^{k+1} - \\beta^k{\\bf p}^k\n",
    "   $$\n"
   ]
  },
  {
   "cell_type": "code",
   "execution_count": 20,
   "metadata": {},
   "outputs": [
    {
     "name": "stdout",
     "output_type": "stream",
     "text": [
      "final err= 8.053291121098274e-17\n",
      "final iter= 16\n",
      "2.9030318378385336e-15\n"
     ]
    }
   ],
   "source": [
    "def conjugate_gradient(A, b, P, nmax=len(A), eps=1e-10):\n",
    "    err=1.0\n",
    "    n=0\n",
    "    sol=np.zeros((len(b)))\n",
    "    r=b-np.dot(A,sol)\n",
    "    z=np.linalg.solve(P,r)\n",
    "    p=np.zeros((len(b)))\n",
    "    p[:]=z[:]\n",
    "    while err>eps and n<nmax : \n",
    "        alpha=np.dot(p,r)/np.dot(np.dot(A,p),p)\n",
    "        sol=sol + alpha*p\n",
    "        r=r-alpha*np.dot(A,p)\n",
    "        z=np.linalg.solve(P,r)\n",
    "        beta=np.dot(np.dot(A,p),z)/np.dot(np.dot(p,A),p)\n",
    "        p=z-beta*p\n",
    "        err = np.linalg.norm(r,2)\n",
    "        n +=1\n",
    "    print(\"final err=\",err)\n",
    "    print(\"final iter=\",n)\n",
    "    return sol\n",
    "\n",
    "sol_conjugate_gradient = conjugate_gradient(A, f, np.identity(len(A)))\n",
    "print(np.linalg.norm(sol_conjugate_gradient - u)/np.linalg.norm(u))"
   ]
  },
  {
   "cell_type": "code",
   "execution_count": null,
   "metadata": {},
   "outputs": [],
   "source": []
  }
 ],
 "metadata": {
  "anaconda-cloud": {},
  "kernelspec": {
   "display_name": "Python 3",
   "language": "python",
   "name": "python3"
  },
  "language_info": {
   "codemirror_mode": {
    "name": "ipython",
    "version": 3
   },
   "file_extension": ".py",
   "mimetype": "text/x-python",
   "name": "python",
   "nbconvert_exporter": "python",
   "pygments_lexer": "ipython3",
   "version": "3.8.5"
  }
 },
 "nbformat": 4,
 "nbformat_minor": 1
}
